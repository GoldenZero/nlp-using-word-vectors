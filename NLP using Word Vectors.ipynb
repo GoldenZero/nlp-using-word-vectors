{
 "cells": [
  {
   "cell_type": "markdown",
   "metadata": {},
   "source": [
    "# NLP using Word Vectors\n",
    "\n",
    "This notebook will show you how to ustilise word vectors using spacy and how they can be used in creating and \"What to read next...\" system.\n",
    "\n",
    "[Spacy](https://spacy.io/) is a production grade open source NLP library that includes word vectors!"
   ]
  },
  {
   "cell_type": "code",
   "execution_count": 8,
   "metadata": {},
   "outputs": [],
   "source": [
    "import spacy \n",
    "\n",
    "import numpy as np\n",
    "import matplotlib.pyplot as plt\n",
    "\n",
    "%matplotlib inline"
   ]
  },
  {
   "cell_type": "markdown",
   "metadata": {},
   "source": [
    "load the word vectors by running :\n",
    "\n",
    "```python\n",
    "nlp = spacy.load('en_core_web_lg')\n",
    "```\n",
    "\n",
    "You can see [here](https://spacy.io/models/en#en_core_web_lg) that this model contains 685,000 unique word vectors!!"
   ]
  },
  {
   "cell_type": "code",
   "execution_count": 2,
   "metadata": {},
   "outputs": [],
   "source": [
    "# YOUR CODE GOES HERE\n",
    "\n",
    "nlp = spacy.load('en_core_web_md')"
   ]
  },
  {
   "cell_type": "markdown",
   "metadata": {},
   "source": [
    "get the vector of any word by running:\n",
    "```python\n",
    "nlp('dog').vector\n",
    "```"
   ]
  },
  {
   "cell_type": "code",
   "execution_count": 14,
   "metadata": {
    "scrolled": false
   },
   "outputs": [
    {
     "data": {
      "text/plain": [
       "array([ -4.01760012e-01,   3.70570004e-01,   2.12810002e-02,\n",
       "        -3.41250002e-01,   4.95380014e-02,   2.94400007e-01,\n",
       "        -1.73759997e-01,  -2.79819995e-01,   6.76219985e-02,\n",
       "         2.16930008e+00,  -6.26909971e-01,   2.91060001e-01,\n",
       "        -6.72699988e-01,   2.33190000e-01,  -3.42640013e-01,\n",
       "         1.83109999e-01,   5.02260029e-01,   1.06889999e+00,\n",
       "         1.46980003e-01,  -4.52300012e-01,  -4.18269992e-01,\n",
       "        -1.59669995e-01,   2.67479986e-01,  -4.88669991e-01,\n",
       "         3.64620000e-01,  -4.34029996e-02,  -2.44739994e-01,\n",
       "        -4.17519987e-01,   8.90880004e-02,  -2.55519986e-01,\n",
       "        -5.56949973e-01,   1.22429997e-01,  -8.35260004e-02,\n",
       "         5.50949991e-01,   3.64100009e-01,   1.53610006e-01,\n",
       "         5.57380021e-01,  -9.07019973e-01,  -4.90979999e-02,\n",
       "         3.85800004e-01,   3.79999995e-01,   1.44250005e-01,\n",
       "        -2.72210002e-01,  -3.70160013e-01,  -1.29040003e-01,\n",
       "        -1.50849998e-01,  -3.80760014e-01,   4.95829992e-02,\n",
       "         1.27550006e-01,  -8.27879980e-02,   1.43390000e-01,\n",
       "         3.25370014e-01,   2.72260010e-01,   4.36320007e-01,\n",
       "        -3.17690015e-01,   7.94049978e-01,   2.65289992e-01,\n",
       "         1.01350002e-01,  -3.32789987e-01,   4.31169987e-01,\n",
       "         1.66869998e-01,   1.07290000e-01,   8.94180015e-02,\n",
       "         2.86350012e-01,   4.01169986e-01,  -3.92219990e-01,\n",
       "         4.52170014e-01,   1.35210007e-01,  -2.88780004e-01,\n",
       "        -2.28189994e-02,  -3.49750012e-01,  -2.29959995e-01,\n",
       "         2.02240005e-01,  -2.11769998e-01,   2.71840006e-01,\n",
       "         9.17029977e-02,  -2.06100002e-01,  -6.57580018e-01,\n",
       "         1.89490005e-01,  -2.67560005e-01,   9.26389992e-02,\n",
       "         4.33160007e-01,  -4.88680005e-01,  -3.83089989e-01,\n",
       "        -2.19099998e-01,  -4.41830009e-01,   9.80440021e-01,\n",
       "         6.74229980e-01,   8.40030015e-01,  -1.81690007e-01,\n",
       "         1.73850000e-01,   4.18480009e-01,   1.60980001e-01,\n",
       "        -1.04900002e-01,  -4.19649988e-01,  -3.56599987e-01,\n",
       "        -1.68369994e-01,  -6.34580016e-01,   3.84220004e-01,\n",
       "        -3.50430012e-01,   1.74860001e-01,   5.35279989e-01,\n",
       "         2.01429993e-01,   3.78770009e-02,   4.71049994e-01,\n",
       "        -4.43439990e-01,   1.68400005e-01,  -1.66850001e-01,\n",
       "        -2.40219995e-01,  -1.00769997e-01,   3.03339988e-01,\n",
       "         4.27300006e-01,   3.38030010e-01,  -4.34810013e-01,\n",
       "         1.13430001e-01,   6.19580001e-02,   6.18080013e-02,\n",
       "        -1.40070006e-01,   8.20180029e-02,  -3.91299985e-02,\n",
       "         5.14420010e-02,   2.87250012e-01,   5.80250025e-01,\n",
       "        -5.76409996e-01,  -3.46520007e-01,   1.01319999e-01,\n",
       "         1.44630000e-01,   1.15689998e-02,  -3.37009996e-01,\n",
       "        -1.75860003e-01,  -3.57239991e-01,  -2.14230001e-01,\n",
       "         1.14289997e-02,   4.76449996e-01,  -3.74629982e-02,\n",
       "        -2.94880003e-01,  -1.74649999e-01,   3.02549988e-01,\n",
       "         6.03169978e-01,  -6.67899996e-02,  -2.70499992e+00,\n",
       "        -7.03079998e-01,   4.05479997e-01,   6.28740013e-01,\n",
       "         6.30800009e-01,  -5.45130014e-01,  -9.61910002e-03,\n",
       "         2.65329987e-01,   2.33909994e-01,  -5.18859997e-02,\n",
       "        -6.57590013e-03,   1.85729992e-02,  -4.56930012e-01,\n",
       "        -7.03509971e-02,  -3.06210011e-01,  -1.40180001e-02,\n",
       "        -2.04080001e-01,   3.70999992e-01,  -3.23540002e-01,\n",
       "        -8.46459985e-01,   2.70920008e-01,  -1.19609997e-01,\n",
       "        -9.55760032e-02,  -6.04640007e-01,   4.24089991e-02,\n",
       "         2.46560007e-01,   3.84449996e-02,  -2.54670009e-02,\n",
       "        -9.29080024e-02,  -2.13560000e-01,   3.61200005e-01,\n",
       "         1.91130005e-02,   6.27409965e-02,  -1.30830005e-01,\n",
       "        -1.51460001e-03,   5.82379997e-01,  -1.89559996e-01,\n",
       "         7.81050026e-01,   1.04769999e-02,   1.09280002e+00,\n",
       "         1.01400003e-01,  -3.62480015e-01,  -1.19620003e-01,\n",
       "        -3.44619989e-01,  -5.57039976e-01,   2.57970005e-01,\n",
       "         3.33559990e-01,   3.31939995e-01,  -3.12979996e-01,\n",
       "        -7.55469978e-01,  -7.52900004e-01,  -9.30719972e-02,\n",
       "        -1.11730002e-01,  -5.72510004e-01,   1.66390002e-01,\n",
       "         6.35789990e-01,   2.40060002e-01,  -2.92109996e-01,\n",
       "         9.01820004e-01,   1.24250002e-01,  -5.77509999e-01,\n",
       "         4.79860008e-02,  -4.27480012e-01,   2.44460002e-01,\n",
       "         4.72319983e-02,   3.56940001e-01,   4.42409992e-01,\n",
       "        -2.30550006e-01,   6.60369992e-01,  -7.39829987e-03,\n",
       "        -3.78569990e-01,   2.27589995e-01,  -3.71380001e-01,\n",
       "         3.10550004e-01,  -7.21049979e-02,  -2.44900003e-01,\n",
       "        -3.97609994e-02,   5.36499977e-01,  -4.14779991e-01,\n",
       "         1.65629998e-01,   3.37069988e-01,   1.09200001e-01,\n",
       "         3.72189999e-01,  -5.57269990e-01,  -7.80600011e-01,\n",
       "         1.42509997e-01,  -3.58280003e-01,   4.16379988e-01,\n",
       "         2.14460000e-01,   1.84100002e-01,  -4.77039993e-01,\n",
       "        -2.20049992e-02,  -2.36340001e-01,  -2.28400007e-01,\n",
       "         3.47220004e-01,   2.36670002e-01,   7.42489994e-02,\n",
       "        -8.84160027e-02,   2.86179990e-01,  -4.69419986e-01,\n",
       "        -4.39139992e-01,  -2.64739990e-01,  -3.06899995e-01,\n",
       "        -1.52600005e-01,  -8.48700032e-02,   2.84099996e-01,\n",
       "        -1.84809998e-01,  -2.21220002e-01,  -1.11690000e-01,\n",
       "        -2.52410006e-02,   4.59679998e-02,   3.53429988e-02,\n",
       "         2.24669993e-01,   5.15559971e-01,  -6.51369977e-04,\n",
       "         9.95590016e-02,  -1.42150000e-01,   2.01360002e-01,\n",
       "         2.83340007e-01,  -2.87719995e-01,   3.77659984e-02,\n",
       "        -3.76080006e-01,  -1.16810001e-01,  -6.70199990e-01,\n",
       "        -4.62649986e-02,   3.87840003e-01,  -3.22949998e-02,\n",
       "        -5.42909987e-02,  -4.53839988e-01,   1.95519999e-01,\n",
       "        -2.94699997e-01,   8.50090027e-01,   1.03450000e-01,\n",
       "         9.70100015e-02,   1.13389999e-01,   3.95020008e-01,\n",
       "         5.90430014e-02,   2.19779998e-01,   1.88449994e-01,\n",
       "        -1.58910006e-01,  -1.03009999e-01,   3.31640005e-01,\n",
       "         6.14770018e-02,  -2.98480004e-01,   4.45100009e-01,\n",
       "         4.73289996e-01,   2.63119996e-01,  -1.84949994e-01,\n",
       "         1.46520004e-01,  -3.15099992e-02,   2.29080003e-02,\n",
       "        -2.59290010e-01,  -3.08620006e-01,   1.75449997e-03,\n",
       "        -1.89620003e-01,   5.47890007e-01,   3.11940014e-01,\n",
       "         2.46930003e-01,   2.99290001e-01,  -7.48609975e-02], dtype=float32)"
      ]
     },
     "execution_count": 14,
     "metadata": {},
     "output_type": "execute_result"
    }
   ],
   "source": [
    "# YORU CODE GOES HERE\n",
    "\n",
    "nlp('dog').vector"
   ]
  },
  {
   "cell_type": "markdown",
   "metadata": {},
   "source": [
    "looks like a lot of numbers, view the number of dimensions by using the `.shape` on a vector:\n",
    "\n",
    "**the output should look like this**:\n",
    "\n",
    "```python\n",
    "(300,)\n",
    "```"
   ]
  },
  {
   "cell_type": "code",
   "execution_count": 15,
   "metadata": {},
   "outputs": [
    {
     "data": {
      "text/plain": [
       "(300,)"
      ]
     },
     "execution_count": 15,
     "metadata": {},
     "output_type": "execute_result"
    }
   ],
   "source": [
    "# YOUR CODE GOES HERE\n",
    "\n",
    "nlp('dog').vector.shape"
   ]
  },
  {
   "cell_type": "code",
   "execution_count": 10,
   "metadata": {},
   "outputs": [
    {
     "data": {
      "image/png": "[encoded data removed]",
      "text/plain": [
       "<matplotlib.figure.Figure at 0x13b7ae080>"
      ]
     },
     "metadata": {},
     "output_type": "display_data"
    }
   ],
   "source": [
    "plt.bar(range(300),nlp('dog').vector)\n",
    "plt.show()"
   ]
  },
  {
   "cell_type": "code",
   "execution_count": 11,
   "metadata": {},
   "outputs": [
    {
     "data": {
      "image/png": "[encoded data removed]",
      "text/plain": [
       "<matplotlib.figure.Figure at 0x13ad2f5c0>"
      ]
     },
     "metadata": {},
     "output_type": "display_data"
    }
   ],
   "source": [
    "plt.bar(range(300),nlp('cat').vector)\n",
    "plt.show()"
   ]
  },
  {
   "cell_type": "code",
   "execution_count": null,
   "metadata": {},
   "outputs": [],
   "source": []
  }
 ],
 "metadata": {
  "kernelspec": {
   "display_name": "Python 3",
   "language": "python",
   "name": "python3"
  },
  "language_info": {
   "codemirror_mode": {
    "name": "ipython",
    "version": 3
   },
   "file_extension": ".py",
   "mimetype": "text/x-python",
   "name": "python",
   "nbconvert_exporter": "python",
   "pygments_lexer": "ipython3",
   "version": "3.5.2"
  }
 },
 "nbformat": 4,
 "nbformat_minor": 1
}
